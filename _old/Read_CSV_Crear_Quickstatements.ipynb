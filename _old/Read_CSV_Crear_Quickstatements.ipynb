{
 "cells": [
  {
   "cell_type": "code",
   "execution_count": 61,
   "metadata": {},
   "outputs": [],
   "source": [
    "import csv"
   ]
  },
  {
   "cell_type": "code",
   "execution_count": 70,
   "metadata": {},
   "outputs": [
    {
     "name": "stdout",
     "output_type": "stream",
     "text": [
      "{'Campground Recycling Centre': 'Q54666929', 'Cowen Road Recycling Centre': 'Q54666929', 'Armthorpe Recycling Centre': 'Q16988947', 'Balby Recycling Centre': 'Q16988947', 'Carcroft Recycling Centre': 'Q16988947', 'Conisbrough Recycling Centre': 'Q16988947', 'Hatfield Recycling Centre': 'Q16988947', 'Rossington Recycling Centre': 'Q16988947', 'Kirkless Recycling Centre': 'Q7999507', 'Slag Lane Recycling Centre': 'Q7999507', 'Chanters Industrial Estate Recycling Centre': 'Q7999507', 'Town Centre Recycling Centre': 'Q179206', 'Newton-le-Willows Recycling Centre': 'Q179206', 'Rainhill Recycling Centre': 'Q179206', 'Blackpool Recycling Centre': 'Q16984489', 'South Sefton Recycling Centre': 'Q1546645', 'Sefton Meadows Recycling Centre': 'Q1546645', 'Southport Recycling Centre': 'Q1546645', 'Formby Recycling Centre': 'Q1546645', 'Huyton Recycling Centre': 'Q1228523', 'Kirkby Recycling Centre': 'Q1228523', 'Otterspool Recycling Centre': 'Q6658351', 'Old Swan Recycling Centre': 'Q6658351', 'Bidston Recycling Centre': 'Q11365639', 'Clatterbridge Recycling Centre': 'Q11365639', 'West Kirby Recycling Centre': 'Q11365639', 'Hazel Court Recycling Centre': 'Q17059453', 'Towthorpe/Strensall Recycling Centre': 'Q17059453', 'Glasshoughton Recycling Centre': 'Q7961061', 'South Kirkby Recycling Centre': 'Q7961061', 'Wakefield Recycling Centre': 'Q7961061', 'Emerald Street Recycling Centre': 'Q918975', 'Bent Ley Road Recycling Centre': 'Q918975', 'Bromley Farm Recycling Centre': 'Q918975', 'Weaving Lane Recycling Centre': 'Q918975', 'Nab Lane Recycling Centre': 'Q918975', 'Anchor Lane Recycling Centre': 'Q21885975', 'Shaw Road Lane Recycling Centre': 'Q21885975', 'Hortonwood Recycling Centre': 'Q17059334', 'Halesfield Recycling Centre': 'Q17059334', 'Longshot Lane Recycling Centre': 'Q896725', 'Smallmead Recycling Centre': 'Q21496716', 'Stafferton Way Recycling Centre': 'Q1368496', 'Kings Road Recycling Centre': 'Q40608', 'South Access Road Recycling Centre': 'Q40608', 'Gateway Road Recycling Centre': 'Q40608', 'Jenkins Lane Recycling Centre': 'Q208139', 'Tower Hamlets Recycling Centre': 'Q208152', 'Summers Lane Recycling Centre': 'Q151048', 'Regis Road Recycling Centre': 'Q202088', 'Barrowell Green Recycling Centre': 'Q210531', 'Western Road Recycling Centre': 'Q213560', 'Hornsey Street Recycling Centre': 'Q205817', 'Frizlands Lane Recycling Centre': 'Q205358', 'Gerpins Lane Recycling Centre': 'Q215038', 'Chigwell Road Recycling Centre': 'Q208955', 'Harefield Recycling Centre': 'Q205690', 'Acton Recycling Centre': 'Q207218', 'Greenford Recycling Centre': 'Q207218'}\n"
     ]
    }
   ],
   "source": [
    "with open('missing_from_wikidata.csv', mode='r') as inp:\n",
    "    reader = csv.reader(inp)\n",
    "    missing_dict = {rows[0]:rows[1] for rows in reader}\n",
    "\n",
    "print(missing_dict)"
   ]
  },
  {
   "cell_type": "code",
   "execution_count": null,
   "metadata": {},
   "outputs": [],
   "source": []
  },
  {
   "cell_type": "code",
   "execution_count": 62,
   "metadata": {},
   "outputs": [
    {
     "name": "stdout",
     "output_type": "stream",
     "text": [
      "{'Aberdeen City Council': 'Q2425849', 'Aberdeenshire Council': 'Q13194614', 'Adur District Council': 'Q72980889', 'Allerdale Borough Council': 'Q72980920', 'Alyn and Deeside District Council': 'Q105536186', 'Amber Valley Borough Council': 'Q72980961', 'Angus Council': 'Q28528114', 'Angus District Council': 'Q105536089', 'Annandale and Eskdale District Council': 'Q66133240', 'Antrim and Newtownabbey Borough Council': 'Q16983224', 'Argyll and Bute Council': 'Q28530251', 'Arun District Council': 'Q72980967', 'Ashfield District Council': 'Q73038329', 'Ashford Borough Council': 'Q55098926', 'Avon County Council': 'Q4829191', 'Aylesbury Vale District Council': 'Q61995983', 'Babergh District Council': 'Q73039037', 'Bala Urban District Council': 'Q56173995', 'Banff and Buchan District Council': 'Q105536091', 'Barking and Dagenham London Borough Council': 'Q4861056', 'Barnet London Borough Council': 'Q4861611', 'Barnsley Metropolitan Borough Council': 'Q16950416', 'Barrow-in-Furness Borough Council': 'Q73072525', 'Basildon Borough Council': 'Q4867303', 'Basildon District Council': 'Q105544671', 'Basingstoke and Deane Borough Council': 'Q73072528', 'Bassetlaw District Council': 'Q73045241', 'Bath and North East Somerset Council': 'Q16966588', 'Bearsden and Milngavie District Council': 'Q105536092', 'Bedford Borough Council': 'Q16239012', 'Bedfordshire County Council': 'Q4879237', 'Belfast City Council': 'Q55934837', 'Bexley London Borough Council': 'Q4899799', 'Birmingham City Council': 'Q4916650', 'Blaby District Council': 'Q73072529', 'Blackburn with Darwen Borough Council': 'Q16984481', 'Blackpool Council': 'Q16984489', 'Blaenau Gwent Council': 'Q28530254', 'Bolsover District Council': 'Q73072533', 'Bolton Council': 'Q16952682', 'Borders Regional Council': 'Q105582203', \"Borough Council of King's Lynn and West Norfolk\": 'Q73072537', 'Boston Borough Council': 'Q73072538', 'Bournemouth Borough Council': 'Q1144019', 'Bournemouth, Christchurch and Poole Council': 'Q54818205', 'Bracknell Forest Council': 'Q16985082', 'Braintree District Council': 'Q73072540', 'Breckland Council': 'Q28530155', 'Breckland District Council': 'Q73072542', 'Brent London Borough Council': 'Q4961461', 'Brentwood Borough Council': 'Q73072544', 'Brighton and Hove City Council': 'Q16953725', 'Bristol City Council': 'Q16953796', 'Broadland District Council': 'Q73072548', 'Bromley London Borough Council': 'Q4973687', 'Bromsgrove District Council': 'Q73072550', 'Broxbourne Borough Council': 'Q4976877', 'Broxtowe Borough Council': 'Q73072553', 'Buckinghamshire Council': 'Q65052846', 'Buckinghamshire County Council': 'Q4983255', 'Burnley Borough Council': 'Q73072554', 'Bury Metropolitan Borough Council': 'Q16954633', 'Calderdale Metropolitan Borough Council': 'Q16985873', 'Cambridge City Council': 'Q5025388', 'Cambridgeshire County Council': 'Q5025648', 'Cambridgeshire and Peterborough Combined Authority': 'Q28451058', 'Camden London Borough Council': 'Q5025790', 'Cannock Chase District Council': 'Q73072556', 'Canterbury City Council': 'Q55098924', 'Caradon District Council': 'Q96577688', 'Cardiganshire County Council': 'Q16825588', 'Carlisle City Council': 'Q73072558', 'Carmarthen District Council': 'Q105536187', 'Castle Point Borough Council': 'Q73072562', 'Castle Point District Council': 'Q105544674', 'Central Bedfordshire Council': 'Q16986562', 'Central Regional Council': 'Q105582200', 'Charnwood Borough Council': 'Q73072564', 'Chelmsford City Council': 'Q73072566', 'Cheltenham Borough Council': 'Q28401301', 'Cherwell District Council': 'Q73072569', 'Cheshire East Council': 'Q16829355', 'Cheshire West and Chester Council': 'Q16829360', 'Chester-le-Street District Council': 'Q105544675', 'Chesterfield Borough Council': 'Q73072572', 'Chichester District Council': 'Q73072573', 'Chiltern District Council': 'Q73072575', 'Chorley Borough Council': 'Q73072578', 'Christchurch Borough Council': 'Q73072580', 'City of Bradford Metropolitan District Council': 'Q16953331', 'City of Edinburgh Council': 'Q28530250', 'City of Lincoln Council': 'Q73072583', 'City of Lincoln District Council': 'Q105544677', 'City of London Corporation': 'Q1094147', 'City of Westminster': 'Q179351', 'Clackmannanshire Council': 'Q28530247', 'Cleveland County Council': 'Q85752836', 'Clwyd County Council': 'Q20599135', 'Clydesdale District Council': 'Q105536093', 'Colchester Borough Council': 'Q73072586', 'Comhairle nan Eilean Siar': 'Q3778400', 'Copeland Borough Council': 'Q73072589', 'Corby Borough Council': 'Q73072591', 'Corby District Council': 'Q105544678', 'Cornwall Council': 'Q3774189', 'Cornwall County Council': 'Q85754128', 'Cotswold District Council': 'Q5175478', 'Council of the Isles of Scilly': 'Q28195166', 'Coventry City Council': 'Q5179058', 'Craven District Council': 'Q73072595', 'Crawley Borough Council': 'Q30255982', 'Croydon London Borough Council': 'Q5189676', 'Cumberland County Council': 'Q5193868', 'Cumbernauld and Kilsyth District Council': 'Q105536098', 'Cumbria County Council': 'Q5194027', 'Cumnock and Doon District Council': 'Q105536100', 'Cunninghame District Council': 'Q105536102', 'Dacorum Borough Council': 'Q5207723', 'Darlington Borough Council': 'Q16948698', 'Dartford Borough Council': 'Q55098919', 'Daventry District Council': 'Q73072596', 'Derby City Council': 'Q5261430', 'Derbyshire County Council': 'Q5261561', 'Derbyshire Dales District Council': 'Q73072598', 'Derwentside District Council': 'Q105544681', 'Devon County Council': 'Q6385990', 'Dinefwr District Council': 'Q105536188', 'Doncaster Metropolitan Borough Council': 'Q16988947', 'Dorset Council': 'Q55609905', 'Dorset County Council': 'Q5298839', 'Dover District Council': 'Q55098918', 'Dudley Metropolitan Borough Council': 'Q16991635', 'Dumbarton District Council': 'Q105536103', 'Dumfries and Galloway Council': 'Q28528309', 'Dumfries and Galloway Regional Council': 'Q105582204', 'Dundee City Council': 'Q28528294', 'Dunfermline District Council': 'Q105536105', 'Dungannon District Council': 'Q105549349', 'Durham City Council': 'Q105544682', 'Durham County Council': 'Q5316492', 'Dyfed County Council': 'Q13127715', 'Ealing London Borough Council': 'Q5325486', 'Easington District Council': 'Q105544683', 'East Ayrshire Council': 'Q28530252', 'East Cambridgeshire District Council': 'Q65090031', 'East Devon District Council': 'Q69118038', 'East Dorset District Council': 'Q73072599', 'East Dunbartonshire Council': 'Q28528289', 'East Hampshire District Council': 'Q73072602', 'East Hertfordshire District Council': 'Q5328577', 'East Kilbride District Council': 'Q105536106', 'East Lindsey District Council': 'Q73072603', 'East Lothian Council': 'Q28530253', 'East Lothian District Council': 'Q105536107', 'East Northamptonshire Council': 'Q73072604', 'East Renfrewshire Council': 'Q28528285', 'East Riding County Council': 'Q16834390', 'East Riding of Yorkshire Council': 'Q16989282', 'East Staffordshire Borough Council': 'Q73072606', 'East Suffolk Council': 'Q59536023', 'East Sussex County Council': 'Q5329458', 'Eastbourne Borough Council': 'Q30588396', 'Eastleigh Borough Council': 'Q73072609', 'Eastwood District Council': 'Q105536110', 'Eden District Council': 'Q73072611', 'Edinburgh District Council': 'Q105536111', 'Elmbridge Borough Council': 'Q73072615', 'Enfield London Borough Council': 'Q5377310', 'Epping Forest District Council': 'Q73072617', 'Epsom and Ewell Borough Council': 'Q73072619', 'Erewash Borough Council': 'Q73072621', 'Essex County Council': 'Q5399679', 'Ettrick and Lauderdale District Council': 'Q105536112', 'Exeter City Council': 'Q5420103', 'Falkirk Council': 'Q28530255', 'Fareham Borough Council': 'Q73072624', 'Fenland District Council': 'Q73072625', 'Fermanagh and Omagh District Council': 'Q16992116', 'Fife Council': 'Q28530258', 'Fife Regional Council': 'Q105582199', 'Folkestone & Hythe District Council': 'Q55099243', 'Forest Heath District Council': 'Q73072627', 'Forest of Dean District Council': 'Q28401332', 'Fylde Borough Council': 'Q73072630', 'Gateshead Council': 'Q54666929', 'Gedling Borough Council': 'Q73072632', 'Glamorgan County Council': 'Q16839203', 'Glasgow City Council': 'Q130637', 'Glasgow District Council': 'Q105536113', 'Gloucester City Council': 'Q28401303', 'Gloucestershire County Council': 'Q16839354', 'Glyndwr District Council': 'Q105456585', 'Gordon District Council': 'Q105536115', 'Gosport Borough Council': 'Q73072634', 'Grampian Regional Council': 'Q105582202', 'Gravesham Borough Council': 'Q55098935', 'Great Yarmouth Borough Council': 'Q73072635', 'Greater Manchester': 'Q23099', 'Greater Manchester Combined Authority': 'Q5600634', 'Greenwich London Borough Council': 'Q5604860', 'Guildford Borough Council': 'Q73072637', 'Gwent County Council': 'Q56178073', 'Hackney London Borough Council': 'Q5637369', 'Halton Borough Council': 'Q16983144', 'Hambleton District Council': 'Q73072640', 'Hamilton District Council': 'Q105536116', 'Hammersmith and Fulham London Borough Council': 'Q5645758', 'Hampshire County Council': 'Q5646045', 'Harborough District Council': 'Q73072642', 'Haringey London Borough Council': 'Q5657624', 'Harlow District Council': 'Q73072645', 'Harrogate Borough Council': 'Q73072647', 'Harrow London Borough Council': 'Q5666565', 'Hart District Council': 'Q73072649', 'Hartlepool Borough Council': 'Q16993720', 'Hastings Borough Council': 'Q73072650', 'Havant Borough Council': 'Q73072652', 'Havering London Borough Council': 'Q5683826', 'Hereford and Worcester County Council': 'Q85766344', 'Herefordshire Council': 'Q5738061', 'Herefordshire County Council': 'Q16842680', 'Hertfordshire County Council': 'Q5744765', 'Hertsmere Borough Council': 'Q15223753', 'High Peak Borough Council': 'Q5756024', 'Highland Council': 'Q28530249', 'Highland Regional Council': 'Q105582196', 'Hillingdon London Borough Council': 'Q5763303', 'Hinckley and Bosworth Borough Council': 'Q73072654', 'Horsham District Council': 'Q73072656', 'Hounslow London Borough Council': 'Q5913301', 'Hull City Council': 'Q5935834', 'Humberside County Council': 'Q71442437', 'Huntingdonshire District Council': 'Q73072657', 'Hyndburn Borough Council': 'Q65089006', 'Inverclyde Council': 'Q28530261', 'Inverclyde District Council': 'Q105536117', 'Inverness District Council': 'Q105536118', 'Ipswich Borough Council': 'Q16191496', 'Isle of Anglesey County Council': 'Q6083890', 'Isle of Wight Council': 'Q6084095', 'Islington London Borough Council': 'Q6084379', 'Kennet District Council': 'Q105544687', 'Kensington and Chelsea London Borough Council': 'Q6391507', 'Kent County Council': 'Q6386127', 'Kerrier District Council': 'Q105544688', 'Kettering Borough Council': 'Q6395462', 'Kilmarnock and Loudoun District Council': 'Q105536119', 'Kincardine and Deeside District Council': 'Q105536121', 'Kincardine and Mearns': 'Q15238498', 'Kingston upon Thames London Borough Council': 'Q6413671', 'Kirkcaldy District Council': 'Q105536123', 'Kirklees Metropolitan Borough Council': 'Q16995709', 'Knowsley Metropolitan Borough Council': 'Q16995750', 'Kyle and Carrick District Council': 'Q105536124', 'Lambeth London Borough Council': 'Q6481450', 'Lampeter Rural District Council': 'Q56180023', 'Lancashire County Council': 'Q6386149', 'Lancaster City Council': 'Q73072658', 'Langbaurgh District Council': 'Q105544689', 'Leeds City Council': 'Q6515870', 'Leicester City Council': 'Q6519163', 'Leicestershire County Council': 'Q6386198', 'Lewes District Council': 'Q73072662', 'Lewisham London Borough Council': 'Q6537320', 'Lichfield District Council': 'Q6543271', 'Lincolnshire County Council': 'Q16996347', 'Liverpool City Council': 'Q6658351', 'Liverpool City Region Combined Authority': 'Q16996746', 'Llandilo Rural District Council': 'Q56180342', 'London Borough of Barking and Dagenham': 'Q205358', 'London Borough of Barnet': 'Q151048', 'London Borough of Bexley': 'Q207208', 'London Borough of Brent': 'Q207201', 'London Borough of Bromley': 'Q208201', 'London Borough of Camden': 'Q202088', 'London Borough of Croydon': 'Q26888', 'London Borough of Ealing': 'Q207218', 'London Borough of Enfield': 'Q210531', 'London Borough of Hackney': 'Q205679', 'London Borough of Hammersmith and Fulham': 'Q40478', 'London Borough of Haringey': 'Q213560', 'London Borough of Harrow': 'Q210476', 'London Borough of Havering': 'Q215038', 'London Borough of Hillingdon': 'Q205690', 'London Borough of Hounslow': 'Q214162', 'London Borough of Islington': 'Q205817', 'London Borough of Lambeth': 'Q202059', 'London Borough of Lewisham': 'Q215030', 'London Borough of Merton': 'Q32504', 'London Borough of Newham': 'Q208139', 'London Borough of Redbridge': 'Q208955', 'London Borough of Richmond upon Thames': 'Q32515', 'London Borough of Southwark': 'Q730706', 'London Borough of Sutton': 'Q320378', 'London Borough of Tower Hamlets': 'Q208152', 'London Borough of Waltham Forest': 'Q40608', 'London Borough of Wandsworth': 'Q210563', 'London County Council': 'Q739384', 'Lothian Regional Council': 'Q105582201', 'Luton Borough Council': 'Q16997109', 'Machynlleth Rural District Council': 'Q56180961', 'Machynlleth Urban District Council': 'Q56180962', 'Maidstone Borough Council': 'Q16997208', 'Maldon District Council': 'Q73072663', 'Mallwyd Urban District Council': 'Q56181031', 'Malvern Hills District Council': 'Q73072667', 'Manchester City Council': 'Q2302252', 'Mansfield District Council': 'Q73072669', 'Marr': 'Q1620633', 'Medway Council': 'Q16997526', 'Meirionnydd District Council': 'Q105536190', 'Melton Borough Council': 'Q73072672', 'Mendip District Council': 'Q73072673', 'Merionethshire County Council': 'Q20714038', 'Merseyside County Council': 'Q6820572', 'Merton London Borough Council': 'Q6820723', 'Mid Beds District Council': 'Q105544696', 'Mid Devon District Council': 'Q73072676', 'Mid Glamorgan County Council': 'Q65063871', 'Mid Suffolk District Council': 'Q73072678', 'Mid Sussex District Council': 'Q73072679', 'Middlesbrough Council': 'Q6841843', 'Midlothian Council': 'Q6842580', 'Milton Keynes Council': 'Q16997843', 'Mole Valley District Council': 'Q73072681', 'Monklands District Council': 'Q105536125', 'Monmouth District Council': 'Q105536191', 'Montgomeryshire County Council': 'Q56181341', 'Montgomeryshire District Council': 'Q105536192', 'Moray Council': 'Q28530260', 'Motherwell District Council': 'Q105536126', 'New Forest District Council': 'Q73072682', 'Newark and Sherwood District Council': 'Q73072684', 'Newbury District Council': 'Q105544697', 'Newcastle City Council': 'Q16998823', 'Newcastle-under-Lyme Borough Council': 'Q73072687', 'Newham London Borough Council': 'Q7018141', 'Nithsdale District Council': 'Q105536128', 'Norfolk County Council': 'Q6386227', 'North Ayrshire Council': 'Q99229582', 'North Cornwall District Council': 'Q105544700', 'North Devon Council': 'Q7055115', 'North Devon District Council': 'Q105545100', 'North Dorset District Council': 'Q73072691', 'North East Combined Authority': 'Q16986408', 'North East Derbyshire District Council': 'Q73072692', 'North East Fife District Council': 'Q105536129', 'North East Lincolnshire Council': 'Q17016820', 'North Hertfordshire District Council': 'Q7055592', 'North Kesteven District Council': 'Q28401189', 'North Lanarkshire Council': 'Q99229584', 'North Lincolnshire Council': 'Q17016863', 'North Norfolk District Council': 'Q73072695', 'North Shropshire District Council': 'Q105544705', 'North Somerset Council': 'Q17016922', 'North Tyneside Council': 'Q17017005', 'North Warwickshire Borough Council': 'Q73072698', 'North West Leicestershire District Council': 'Q73072699', 'North Wiltshire District Council': 'Q105544707', 'North Yorkshire County Council': 'Q17017103', 'North of Tyne Combined Authority': 'Q55136954', 'Northampton Borough Council': 'Q73072702', 'Northamptonshire County Council': 'Q14942414', 'Northavon District Council': 'Q105544709', 'Northumberland County Council': 'Q6386521', 'Norwich City Council': 'Q17012769', 'Nottingham City Council': 'Q7063612', 'Nottinghamshire County Council': 'Q16934215', 'Nuneaton and Bedworth Borough Council': 'Q73072703', 'Oadby and Wigston Borough Council': 'Q73072704', 'Ogwr Borough Council': 'Q85790341', 'Oldham Council': 'Q17017730', 'Orkney Islands Council': 'Q11994103', 'Oxford City Council': 'Q7115277', 'Oxfordshire County Council': 'Q6386253', 'Pendle Borough Council': 'Q7162423', 'Penwith District Council': 'Q105544711', 'Perth and Kinross Council': 'Q7170911', 'Perth and Kinross District Council': 'Q105536130', 'Peterborough City Council': 'Q6664413', 'Plymouth City Council': 'Q7205775', 'Poole Borough Council': 'Q7228609', 'Portsmouth City Council': 'Q17104656', 'Powys Council': 'Q28530256', 'Powys County Council': 'Q7236943', 'Preseli Pembrokeshire District Council': 'Q105536193', 'Prestatyn Urban District Council': 'Q56182894', 'Preston City Council': 'Q65089357', 'Purbeck District Council': 'Q73072707', 'Radnorshire District Council': 'Q105536194', 'Reading Borough Council': 'Q17018654', 'Redbridge London Borough Council': 'Q7305508', 'Redcar and Cleveland Borough Council': 'Q17019415', 'Redditch Borough Council': 'Q14978996', 'Reigate and Banstead Borough Council': 'Q73072709', 'Renfrew District Council': 'Q105536131', 'Renfrewshire Council': 'Q99229583', 'Rhymney Valley District Council': 'Q105536195', 'Ribble Valley Borough Council': 'Q73072712', 'Richmond upon Thames London Borough Council': 'Q7331065', 'Richmondshire District Council': 'Q73072715', 'Rochdale Metropolitan Borough Council': 'Q17019804', 'Rochford District Council': 'Q73072717', 'Ross and Cromarty District Council': 'Q105536133', 'Rossendale Borough Council': 'Q7369771', 'Rother District Council': 'Q73072720', 'Rotherham Metropolitan Borough Council': 'Q17020059', 'Royal Borough of Greenwich': 'Q693450', 'Royal Borough of Kensington and Chelsea': 'Q188801', 'Royal Borough of Kingston upon Thames': 'Q32508', 'Royal Commission on the Press, United Kingdom': 'Q7374048', 'Rugby Borough Council': 'Q73072725', 'Runnymede Borough Council': 'Q73072726', 'Rushcliffe Borough Council': 'Q73072729', 'Rushmoor Borough Council': 'Q73072730', 'Rutland County Council': 'Q7383481', 'Rutland District Council': 'Q105544713', 'Ryedale District Council': 'Q73072732', 'Salford City Council': 'Q17020402', 'Salisbury District Council': 'Q53247767', 'Sandwell Metropolitan Borough Council': 'Q7417057', 'Scarborough Borough Council': 'Q73072735', 'Scottish Borders Council': 'Q99229585', 'Scottish district': 'Q21457810', 'Sedgemoor District Council': 'Q73072737', 'Sefton Council': 'Q7446119', 'Selby District Council': 'Q73072740', 'Sevenoaks District Council': 'Q55098936', 'Sheffield City Council': 'Q7492609', 'Sheffield City Region Combined Authority': 'Q17020947', 'Shepway District Council': 'Q105544714', 'Shetland Islands Council': 'Q3481996', 'Shropshire Council': 'Q93612', 'Shropshire County Council': 'Q16893098', 'Slough Borough Council': 'Q7541466', 'Solihull Metropolitan Borough Council': 'Q17021590', 'Somerset County Council': 'Q6386270', 'Somerset West and Taunton Council': 'Q60790331', 'South Ayrshire Council': 'Q99229587', 'South Bedfordshire District Council': 'Q105544716', 'South Buckinghamshire District Council': 'Q105544717', 'South Bucks District Council': 'Q65089619', 'South Cambridgeshire District Council': 'Q7566485', 'South Derbyshire District Council': 'Q73072741', 'South Gloucestershire Council': 'Q17020724', 'South Hams District Council': 'Q23461861', 'South Herefordshire District Council': 'Q105544720', 'South Holland District Council': 'Q73072743', 'South Kesteven District Council': 'Q73072747', 'South Lakeland District Council': 'Q73072749', 'South Lanarkshire Council': 'Q99229588', 'South Norfolk District Council': 'Q73072752', 'South Northamptonshire Council': 'Q73072753', 'South Oxfordshire District Council': 'Q65089301', 'South Ribble Borough Council': 'Q73072755', 'South Somerset District Council': 'Q73072757', 'South Staffordshire Council': 'Q73072759', 'South Tyneside Council': 'Q23463529', 'South Yorkshire County Council': 'Q65089159', 'Southampton City Council': 'Q17021809', 'Southend-on-Sea Borough Council': 'Q7569516', 'Southwark London Borough Council': 'Q7571153', 'Spelthorne Borough Council': 'Q73072774', 'St Albans City and District Council': 'Q7592257', 'St Edmundsbury Borough Council': 'Q73072776', 'St Helens Metropolitan Borough Council': 'Q17022094', 'Stafford Borough Council': 'Q73072778', 'Staffordshire County Council': 'Q6386295', 'Staffordshire Moorlands District Council': 'Q73072779', 'Stevenage Borough Council': 'Q7615422', 'Stirling Council': 'Q99229589', 'Stirling District Council': 'Q105536234', 'Stockport Metropolitan Borough Council': 'Q7618164', 'Stockton-on-Tees Borough Council': 'Q17022493', 'Stoke-on-Trent City Council': 'Q17022507', 'Stratford-on-Avon District Council': 'Q73072781', 'Strathclyde Regional Council': 'Q105582198', 'Strathkelvin District Council': 'Q105536182', 'Stroud District Council': 'Q28401169', 'Suffolk Coastal District Council': 'Q73072783', 'Suffolk County Council': 'Q3305205', 'Sunderland City Council': 'Q17022675', 'Surrey County Council': 'Q6386325', 'Surrey Heath Borough Council': 'Q73072785', 'Sutton London Borough Council': 'Q7650288', 'Swale Borough Council': 'Q55098937', 'Swansea County Borough Council': 'Q16933626', 'Swindon Borough Council': 'Q17040033', 'Tameside Metropolitan Borough Council': 'Q17041259', 'Tamworth Borough Council': 'Q73072788', 'Tandridge District Council': 'Q73072790', 'Taunton Deane Borough Council': 'Q73072791', 'Tayside Regional Council': 'Q105582197', 'Tees Valley Combined Authority': 'Q21061639', 'Teesdale District Council': 'Q105544732', 'Teignbridge District Council': 'Q73072792', 'Telford and Wrekin Council': 'Q17059334', 'Tendring District Council': 'Q73072799', 'Test Valley Borough Council': 'Q73072801', 'Tewkesbury Borough Council': 'Q27183368', 'Thanet District Council': 'Q7710261', 'Three Rivers District Council': 'Q7797746', 'Thurrock Council': 'Q1646552', 'Tonbridge and Malling Borough Council': 'Q16901812', 'Torbay Council': 'Q17034697', 'Torridge District Council': 'Q73072804', 'Tower Hamlets London Borough Council': 'Q7829677', 'Trafford Metropolitan Borough Council': 'Q17034839', 'Transport for West Midlands': 'Q7985947', 'Tunbridge Wells Borough Council': 'Q55098930', 'Tynedale District Council': 'Q105544735', 'Uttlesford District Council': 'Q73072805', 'Vale of White Horse District Council': 'Q65090041', 'Wakefield Council': 'Q7961061', 'Walsall Metropolitan Borough Council': 'Q7963789', 'Waltham Forest London Borough Council': 'Q7966606', 'Wandsworth London Borough Council': 'Q7967311', 'Wansbeck District Council': 'Q105544736', 'Warrington Borough Council': 'Q17033474', 'Warwick District Council': 'Q73072810', 'Warwickshire County Council': 'Q17066348', 'Watford Borough Council': 'Q7974596', 'Waveney District Council': 'Q73072811', 'Waverley Borough Council': 'Q73072816', 'Wealden District Council': 'Q73072817', 'Wealdon District Council': 'Q105544738', 'Wear Valley District Council': 'Q105544740', 'Wellingborough Borough Council': 'Q73072820', 'Welwyn Hatfield Borough Council': 'Q7982137', 'Welwyn Hatfield District Council': 'Q105544741', 'West Berkshire Council': 'Q17041496', 'West Devon Borough Council': 'Q73072823', 'West Dorset District Council': 'Q73072826', 'West Dunbartonshire Council': 'Q99229590', 'West Lancashire Borough Council': 'Q73072828', 'West Lindsey District Council': 'Q73072831', 'West Lothian Council': 'Q7985814', 'West Lothian District Council': 'Q105536184', 'West Midlands Combined Authority': 'Q21061625', 'West Oxfordshire District Council': 'Q73072833', 'West Somerset District Council': 'Q73072834', 'West Suffolk Council': 'Q73072837', 'West Sussex County Council': 'Q6386353', 'West Wiltshire District Council': 'Q105544742', 'West Yorkshire Combined Authority': 'Q17035952', 'West of England Combined Authority': 'Q24993670', 'Westminster City Council': 'Q7989145', 'Weymouth and Portland Borough Council': 'Q73072840', 'Wigan Council': 'Q7999507', 'Wigtown District Council': 'Q105536185', 'Wiltshire Council': 'Q1990879', 'Winchester City Council': 'Q73072843', 'Windsor and Maidenhead Borough Council': 'Q17038560', 'Wirral Council': 'Q17038877', 'Woking Borough Council': 'Q73072846', 'Wokingham Borough Council': 'Q17039435', 'Wolverhampton City Council': 'Q8030462', 'Worcester City Council': 'Q73072848', 'Worcestershire County Council': 'Q8034245', 'Worthing Borough Council': 'Q55098923', 'Wrekin District Council': 'Q105544744', 'Wychavon District Council': 'Q73072850', 'Wycombe District Council': 'Q65088676', 'Wyre Borough Council': 'Q73072856', 'Wyre Forest District Council': 'Q73072859', 'York City Council': 'Q17059453'}\n"
     ]
    }
   ],
   "source": [
    "mydict = {}\n",
    "\n",
    "with open('councils_wikidata.csv', mode='r') as inp:\n",
    "    reader = csv.reader(inp)\n",
    "    councils_dict = {rows[1]:rows[0].split('/')[4] for rows in reader}\n",
    "\n",
    "print(councils_dict)"
   ]
  },
  {
   "cell_type": "code",
   "execution_count": 76,
   "metadata": {},
   "outputs": [],
   "source": [
    "filename = 'hwrc-wales-flatfile.csv'\n",
    "\n",
    "with open(filename, 'r') as csvfile:\n",
    "    datareader = csv.reader(csvfile)\n",
    "    for row in datareader:\n",
    "        if row[9] == \"wal\":\n",
    "                with open (\"wd_output_wales.txt\", 'a') as f:\n",
    "                    f.write (\"CREATE \\n\")\n",
    "                    f.write (\"LAST\\tLen\\t\" + '\"'+row[4]+'\"'+\"\\n\")\n",
    "                    f.write(\"LAST\\tDen\\t\" + '\"'+\"household waste recycling centre\"+ '\"\\n')\n",
    "                    f.write(\"LAST\\tP31\\tQ27106436\\n\")\n",
    "                    f.write(\"LAST\\tP17\\tQ145\\n\")\n",
    "                    f.write(\"LAST\\tP131\\t\" + row[38]+ \"\\n\")\n",
    "                    f.write(\"LAST\\tP625\\t@\"+row[11]+\"/\"+row[12]+\"\\n\")\n",
    "                    f.write(\"\\n\")\n",
    "            "
   ]
  },
  {
   "cell_type": "code",
   "execution_count": 77,
   "metadata": {},
   "outputs": [],
   "source": [
    "#ls\n"
   ]
  },
  {
   "cell_type": "code",
   "execution_count": 68,
   "metadata": {},
   "outputs": [
    {
     "name": "stdout",
     "output_type": "stream",
     "text": [
      "\"Campground Recycling Centre\",\"Gateshead Metropolitan Borough Council\"\n",
      "\"Cowen Road Recycling Centre\",\"Gateshead Metropolitan Borough Council\"\n",
      "\"Armthorpe Recycling Centre\",\"Doncaster Council\"\n",
      "\"Balby Recycling Centre\",\"Doncaster Council\"\n",
      "\"Carcroft Recycling Centre\",\"Doncaster Council\"\n",
      "\"Conisbrough Recycling Centre\",\"Doncaster Council\"\n",
      "\"Hatfield Recycling Centre\",\"Doncaster Council\"\n",
      "\"Rossington Recycling Centre\",\"Doncaster Council\"\n",
      "\"Kirkless Recycling Centre\",\"Wigan Metropolitan Borough Council\"\n",
      "\"Slag Lane Recycling Centre\",\"Wigan Metropolitan Borough Council\"\n",
      "\"Chanters Industrial Estate Recycling Centre\",\"Wigan Metropolitan Borough Council\"\n",
      "\"Town Centre Recycling Centre\",\"Merseyside Recycling and Waste Authority\"\n",
      "\"Newton-le-Willows Recycling Centre\",\"Merseyside Recycling and Waste Authority\"\n",
      "\"Rainhill Recycling Centre\",\"Merseyside Recycling and Waste Authority\"\n",
      "\"Blackpool Recycling Centre\",\"Blackpool Borough Council\"\n",
      "\"South Sefton Recycling Centre\",\"Merseyside Recycling and Waste Authority\"\n",
      "\"Sefton Meadows Recycling Centre\",\"Merseyside Recycling and Waste Authority\"\n",
      "\"Southport Recycling Centre\",\"Merseyside Recycling and Waste Authority\"\n",
      "\"Formby Recycling Centre\",\"Merseyside Recycling and Waste Authority\"\n",
      "\"Huyton Recycling Centre\",\"Merseyside Recycling and Waste Authority\"\n",
      "\"Kirkby Recycling Centre\",\"Merseyside Recycling and Waste Authority\"\n",
      "\"Otterspool Recycling Centre\",\"Merseyside Recycling and Waste Authority\"\n",
      "\"Old Swan Recycling Centre\",\"Merseyside Recycling and Waste Authority\"\n",
      "\"Bidston Recycling Centre\",\"Merseyside Recycling and Waste Authority\"\n",
      "\"Clatterbridge Recycling Centre\",\"Merseyside Recycling and Waste Authority\"\n",
      "\"West Kirby Recycling Centre\",\"Merseyside Recycling and Waste Authority\"\n",
      "\"Hazel Court Recycling Centre\",\"City of York Council\"\n",
      "\"Towthorpe/Strensall Recycling Centre\",\"City of York Council\"\n",
      "\"Glasshoughton Recycling Centre\",\"Wakefield Metropolitan District Council\"\n",
      "\"South Kirkby Recycling Centre\",\"Wakefield Metropolitan District Council\"\n",
      "\"Wakefield Recycling Centre\",\"Wakefield Metropolitan District Council\"\n",
      "\"Emerald Street Recycling Centre\",\"Kirklees Council\"\n",
      "\"Bent Ley Road Recycling Centre\",\"Kirklees Council\"\n",
      "\"Bromley Farm Recycling Centre\",\"Kirklees Council\"\n",
      "\"Weaving Lane Recycling Centre\",\"Kirklees Council\"\n",
      "\"Nab Lane Recycling Centre\",\"Kirklees Council\"\n",
      "\"Anchor Lane Recycling Centre\",\"City of Wolverhampton Council\"\n",
      "\"Shaw Road Lane Recycling Centre\",\"City of Wolverhampton Council\"\n",
      "\"Hortonwood Recycling Centre\",\"Telford & Wrekin Council\"\n",
      "\"Halesfield Recycling Centre\",\"Telford & Wrekin Council\"\n",
      "\"Longshot Lane Recycling Centre\",\"re3\"\n",
      "\"Smallmead Recycling Centre\",\"re3\"\n",
      "\"Stafferton Way Recycling Centre\",\"Royal Borough of Windsor and Maidenhead\"\n",
      "\"King’s Road Recycling Centre\",\"North London Waste Authority\"\n",
      "\"South Access Road Recycling Centre\",\"North London Waste Authority\"\n",
      "\"Gateway Road Recycling Centre\",\"North London Waste Authority\"\n",
      "\"Jenkins Lane Recycling Centre\",\"East London Waste Authority\"\n",
      "\"Tower Hamlets Recycling Centre\",\"Tower Hamlets Council\"\n",
      "\"Summers Lane Recycling Centre\",\"North London Waste Authority\"\n",
      "\"Regis Road Recycling Centre\",\"North London Waste Authority\"\n",
      "\"Barrowell Green Recycling Centre\",\"North London Waste Authority\"\n",
      "\"Western Road Recycling Centre\",\"North London Waste Authority\"\n",
      "\"Hornsey Street Recycling Centre\",\"North London Waste Authority\"\n",
      "\"Hornsey Street Recycling Centre\",\"North London Waste Authority\"\n",
      "\"Frizlands Lane Recycling Centre\",\"East London Waste Authority\"\n",
      "\"Gerpins Lane Recycling Centre\",\"East London Waste Authority\"\n",
      "\"Chigwell Road Recycling Centre\",\"East London Waste Authority\"\n",
      "\"Harefield Recycling Centre\",\"Hillingdon Council\"\n",
      "\"Acton Recycling Centre\",\"Ealing Council\"\n",
      "\"Greenford Recycling Centre\",\"Ealing Council\"\n"
     ]
    }
   ],
   "source": [
    "filename = 'hwrc-flatfile.csv'\n",
    "\n",
    "with open(filename, 'r') as csvfile:\n",
    "    datareader = csv.reader(csvfile)\n",
    "    for row in datareader:\n",
    "        if row[9] == \"eng\":\n",
    "            if row[16] not in councils_dict:\n",
    "                print('\"'+row[4]+ '\",\"' +  row[16]+'\"')"
   ]
  },
  {
   "cell_type": "code",
   "execution_count": null,
   "metadata": {},
   "outputs": [],
   "source": []
  }
 ],
 "metadata": {
  "kernelspec": {
   "display_name": "Python 3",
   "language": "python",
   "name": "python3"
  },
  "language_info": {
   "codemirror_mode": {
    "name": "ipython",
    "version": 3
   },
   "file_extension": ".py",
   "mimetype": "text/x-python",
   "name": "python",
   "nbconvert_exporter": "python",
   "pygments_lexer": "ipython3",
   "version": "3.7.4"
  }
 },
 "nbformat": 4,
 "nbformat_minor": 2
}
